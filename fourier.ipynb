{
 "cells": [
  {
   "cell_type": "code",
   "execution_count": 1,
   "metadata": {},
   "outputs": [],
   "source": [
    "import numpy as np\n",
    "import matplotlib.pyplot as plt\n",
    "import sympy as smp\n",
    "from cmath import phase"
   ]
  },
  {
   "cell_type": "code",
   "execution_count": 2,
   "metadata": {},
   "outputs": [],
   "source": [
    "def points_to_func(points,time):\n",
    "    t = points[:,0]\n",
    "    f_t = points[:,1]\n",
    "    mat = np.array([t]).T**np.arange(len(t))\n",
    "    coeff = np.linalg.solve(mat,f_t.T)\n",
    "    return time**np.arange(len(coeff))@coeff"
   ]
  },
  {
   "cell_type": "code",
   "execution_count": 3,
   "metadata": {},
   "outputs": [],
   "source": [
    "def fourier(f,t,w):\n",
    "    print(f)\n",
    "    num = smp.N(smp.integrate(f*smp.cos(-1*w*t),(t,0,1)) + smp.I*smp.integrate(f*smp.sin(-1*w*t),(t,0,1)))\n",
    "    return smp.Abs(num),smp.arg(num)"
   ]
  },
  {
   "cell_type": "code",
   "execution_count": 17,
   "metadata": {},
   "outputs": [],
   "source": [
    "def fourier_component(x,y,w):\n",
    "    t = smp.symbols('t')\n",
    "    f = points_to_func(x,t)\n",
    "    g = points_to_func(y,t)\n",
    "    radius, arg = fourier((f+smp.I*g),t,w)\n",
    "    return radius, arg"
   ]
  },
  {
   "cell_type": "code",
   "execution_count": null,
   "metadata": {},
   "outputs": [],
   "source": [
    "x, y = import_points()\n"
   ]
  },
  {
   "cell_type": "code",
   "execution_count": 6,
   "metadata": {},
   "outputs": [],
   "source": [
    "t = smp.symbols('t')"
   ]
  },
  {
   "cell_type": "code",
   "execution_count": 12,
   "metadata": {},
   "outputs": [],
   "source": [
    "f = t**2 - t\n",
    "g = -2*t**2 + 3*t - 2\n"
   ]
  },
  {
   "cell_type": "code",
   "execution_count": 18,
   "metadata": {},
   "outputs": [],
   "source": [
    "w = smp.symbols('w')"
   ]
  },
  {
   "cell_type": "code",
   "execution_count": 15,
   "metadata": {},
   "outputs": [],
   "source": [
    "x = np.array([[0,1],[0.5,10],[1,-4]])\n",
    "y = np.array([[0,5],[0.5,-1],[1,3]])"
   ]
  },
  {
   "cell_type": "code",
   "execution_count": 21,
   "metadata": {},
   "outputs": [
    {
     "name": "stdout",
     "output_type": "stream",
     "text": [
      "-46.0*t**2 + 41.0*t + I*(20.0*t**2 - 22.0*t + 5.0) + 1.0\n"
     ]
    },
    {
     "data": {
      "text/latex": [
       "$\\displaystyle 6.20259802197613$"
      ],
      "text/plain": [
       "6.20259802197613"
      ]
     },
     "execution_count": 21,
     "metadata": {},
     "output_type": "execute_result"
    }
   ],
   "source": [
    "fourier_component(x,y,w)[0].subs(w,0)"
   ]
  },
  {
   "cell_type": "code",
   "execution_count": 39,
   "metadata": {},
   "outputs": [
    {
     "name": "stdout",
     "output_type": "stream",
     "text": [
      "t**2 - t + I*(-2*t**2 + 3*t - 2)\n"
     ]
    },
    {
     "data": {
      "text/plain": [
       "(sqrt(Piecewise((-0.5*exp(I*w)/w + 0.5*exp(-I*w)/w + 0.5*exp(I*w)/w**2 - 0.5*I*exp(I*w)/w**2 + 1.0/w**2 - 3.0*I/w**2 + 0.5*exp(-I*w)/w**2 - 0.5*I*exp(-I*w)/w**2 + 2.0*exp(I*w)/w**3 + 1.0*I*exp(I*w)/w**3 - 2.0*exp(-I*w)/w**3 - 1.0*I*exp(-I*w)/w**3, Ne(w, 0)), (-0.166666666666667 - 1.16666666666667*I, True))*Piecewise((0.5*exp(I*w)/w - 0.5*exp(-I*w)/w + 0.5*exp(I*w)/w**2 + 0.5*I*exp(I*w)/w**2 + 1.0/w**2 + 3.0*I/w**2 + 0.5*exp(-I*w)/w**2 + 0.5*I*exp(-I*w)/w**2 - 2.0*exp(I*w)/w**3 + 1.0*I*exp(I*w)/w**3 + 2.0*exp(-I*w)/w**3 - 1.0*I*exp(-I*w)/w**3, Ne(w, 0)), (-0.166666666666667 + 1.16666666666667*I, True)) - I*Piecewise((-0.5*exp(I*w)/w + 0.5*exp(-I*w)/w + 0.5*exp(I*w)/w**2 - 0.5*I*exp(I*w)/w**2 + 1.0/w**2 - 3.0*I/w**2 + 0.5*exp(-I*w)/w**2 - 0.5*I*exp(-I*w)/w**2 + 2.0*exp(I*w)/w**3 + 1.0*I*exp(I*w)/w**3 - 2.0*exp(-I*w)/w**3 - 1.0*I*exp(-I*w)/w**3, Ne(w, 0)), (-0.166666666666667 - 1.16666666666667*I, True))*Piecewise((0.5*I*exp(I*w)/w - 2.0*I/w + 0.5*I*exp(-I*w)/w - 0.5*exp(I*w)/w**2 + 0.5*I*exp(I*w)/w**2 + 0.5*exp(-I*w)/w**2 - 0.5*I*exp(-I*w)/w**2 - 1.0*exp(I*w)/w**3 - 2.0*I*exp(I*w)/w**3 + 2.0/w**3 + 4.0*I/w**3 - 1.0*exp(-I*w)/w**3 - 2.0*I*exp(-I*w)/w**3, Ne(w, 0)), (0, True)) + I*Piecewise((0.5*exp(I*w)/w - 0.5*exp(-I*w)/w + 0.5*exp(I*w)/w**2 + 0.5*I*exp(I*w)/w**2 + 1.0/w**2 + 3.0*I/w**2 + 0.5*exp(-I*w)/w**2 + 0.5*I*exp(-I*w)/w**2 - 2.0*exp(I*w)/w**3 + 1.0*I*exp(I*w)/w**3 + 2.0*exp(-I*w)/w**3 - 1.0*I*exp(-I*w)/w**3, Ne(w, 0)), (-0.166666666666667 + 1.16666666666667*I, True))*Piecewise((-0.5*I*exp(I*w)/w + 2.0*I/w - 0.5*I*exp(-I*w)/w + 0.5*exp(I*w)/w**2 + 0.5*I*exp(I*w)/w**2 - 0.5*exp(-I*w)/w**2 - 0.5*I*exp(-I*w)/w**2 - 1.0*exp(I*w)/w**3 + 2.0*I*exp(I*w)/w**3 + 2.0/w**3 - 4.0*I/w**3 - 1.0*exp(-I*w)/w**3 + 2.0*I*exp(-I*w)/w**3, Ne(w, 0)), (0, True)) + Piecewise((-0.5*I*exp(I*w)/w + 2.0*I/w - 0.5*I*exp(-I*w)/w + 0.5*exp(I*w)/w**2 + 0.5*I*exp(I*w)/w**2 - 0.5*exp(-I*w)/w**2 - 0.5*I*exp(-I*w)/w**2 - 1.0*exp(I*w)/w**3 + 2.0*I*exp(I*w)/w**3 + 2.0/w**3 - 4.0*I/w**3 - 1.0*exp(-I*w)/w**3 + 2.0*I*exp(-I*w)/w**3, Ne(w, 0)), (0, True))*Piecewise((0.5*I*exp(I*w)/w - 2.0*I/w + 0.5*I*exp(-I*w)/w - 0.5*exp(I*w)/w**2 + 0.5*I*exp(I*w)/w**2 + 0.5*exp(-I*w)/w**2 - 0.5*I*exp(-I*w)/w**2 - 1.0*exp(I*w)/w**3 - 2.0*I*exp(I*w)/w**3 + 2.0/w**3 + 4.0*I/w**3 - 1.0*exp(-I*w)/w**3 - 2.0*I*exp(-I*w)/w**3, Ne(w, 0)), (0, True))),\n",
       " arg(I*Piecewise((0.25*(8.0*I*w**2 + (-4.0*I*w**2 + w**2*(2.0 - 4.0*I) + w**2*(-2.0 + 6.0*I) - w*(6.0 + 2.0*I) + w*(8.0 + 4.0*I) - 4.0 + 8.0*I)*exp(I*w) + (-4.0*I*w**2 + w**2*(2.0 - 4.0*I) + w**2*(-2.0 + 6.0*I) - w*(8.0 + 4.0*I) + w*(6.0 + 2.0*I) - 4.0 + 8.0*I)*exp(-I*w) + 8.0 - 16.0*I)/w**3, Ne(w, 0)), (0, True)) + Piecewise((0.25*(4.0 - 12.0*I + ((-4.0*w**2 - w**2*(4.0 + 2.0*I) + w**2*(6.0 + 2.0*I) + w*(4.0 - 8.0*I) + w*(-2.0 + 6.0*I) + 8.0 + 4.0*I)*exp(I*w) + (4.0*w**2 - w**2*(6.0 + 2.0*I) + w**2*(4.0 + 2.0*I) + w*(4.0 - 8.0*I) + w*(-2.0 + 6.0*I) - 8.0 - 4.0*I)*exp(-I*w))/w)/w**2, Ne(w, 0)), (-(0.166666666666667 + 1.16666666666667*I), True))))"
      ]
     },
     "execution_count": 39,
     "metadata": {},
     "output_type": "execute_result"
    }
   ],
   "source": [
    "complex(smp.Nsmp.N(fourier(f+t+smp.I*g,t,1)))).real"
   ]
  },
  {
   "cell_type": "code",
   "execution_count": 71,
   "metadata": {},
   "outputs": [
    {
     "data": {
      "text/latex": [
       "$\\displaystyle - \\frac{3}{4} - \\frac{\\cos{\\left(2 \\right)}}{4}$"
      ],
      "text/plain": [
       "-3/4 - cos(2)/4"
      ]
     },
     "execution_count": 71,
     "metadata": {},
     "output_type": "execute_result"
    }
   ],
   "source": [
    "smp.integrate(g*smp.cos(-1*2*t),(t,0,1))"
   ]
  },
  {
   "cell_type": "code",
   "execution_count": 60,
   "metadata": {},
   "outputs": [
    {
     "data": {
      "text/plain": [
       "1.5"
      ]
     },
     "execution_count": 60,
     "metadata": {},
     "output_type": "execute_result"
    }
   ],
   "source": [
    "float((t/(2*t))) + 1"
   ]
  },
  {
   "cell_type": "code",
   "execution_count": 57,
   "metadata": {},
   "outputs": [
    {
     "data": {
      "text/plain": [
       "2"
      ]
     },
     "execution_count": 57,
     "metadata": {},
     "output_type": "execute_result"
    }
   ],
   "source": [
    "2"
   ]
  },
  {
   "cell_type": "code",
   "execution_count": null,
   "metadata": {},
   "outputs": [],
   "source": []
  }
 ],
 "metadata": {
  "kernelspec": {
   "display_name": "Python 3",
   "language": "python",
   "name": "python3"
  },
  "language_info": {
   "codemirror_mode": {
    "name": "ipython",
    "version": 3
   },
   "file_extension": ".py",
   "mimetype": "text/x-python",
   "name": "python",
   "nbconvert_exporter": "python",
   "pygments_lexer": "ipython3",
   "version": "3.10.12"
  }
 },
 "nbformat": 4,
 "nbformat_minor": 2
}
