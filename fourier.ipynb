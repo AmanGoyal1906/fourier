{
 "cells": [
  {
   "cell_type": "code",
   "execution_count": 1,
   "metadata": {},
   "outputs": [],
   "source": [
    "import numpy as np\n",
    "import matplotlib.pyplot as plt\n",
    "import sympy as smp\n",
    "from cmath import phase"
   ]
  },
  {
   "cell_type": "code",
   "execution_count": 3,
   "metadata": {},
   "outputs": [],
   "source": [
    "def points_to_func(points,time):\n",
    "    t = points[:,0]\n",
    "    f_t = points[:,1]\n",
    "    mat = np.array([t]).T**np.arange(len(t))\n",
    "    coeff = np.linalg.solve(mat,f_t.T)\n",
    "    return time**np.arange(len(coeff))@coeff"
   ]
  },
  {
   "cell_type": "code",
   "execution_count": 4,
   "metadata": {},
   "outputs": [],
   "source": [
    "def fourier(f,t,w):\n",
    "    num = smp.integrate(f*smp.cos(-1*w*t),(t,0,1)) + 1j*smp.integrate(f*smp.sin(-1*w*t),(t,0,1))\n",
    "    return abs(num), phase(num)"
   ]
  },
  {
   "cell_type": "code",
   "execution_count": null,
   "metadata": {},
   "outputs": [],
   "source": [
    "x, y = import_points()\n"
   ]
  },
  {
   "cell_type": "code",
   "execution_count": 7,
   "metadata": {},
   "outputs": [],
   "source": []
  },
  {
   "cell_type": "code",
   "execution_count": 8,
   "metadata": {},
   "outputs": [],
   "source": [
    "def fourier_component(x,y,w):\n",
    "    t = smp.symbols('t')\n",
    "    f = points_to_func(x,t)\n",
    "    g = points_to_func(y,t)\n",
    "    radius, arg = fourier((f+1j*g),t,w)\n",
    "    return radius, arg\n",
    "\n"
   ]
  }
 ],
 "metadata": {
  "kernelspec": {
   "display_name": "Python 3",
   "language": "python",
   "name": "python3"
  },
  "language_info": {
   "codemirror_mode": {
    "name": "ipython",
    "version": 3
   },
   "file_extension": ".py",
   "mimetype": "text/x-python",
   "name": "python",
   "nbconvert_exporter": "python",
   "pygments_lexer": "ipython3",
   "version": "3.10.12"
  }
 },
 "nbformat": 4,
 "nbformat_minor": 2
}
