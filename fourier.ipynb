{
 "cells": [
  {
   "cell_type": "code",
   "execution_count": 1,
   "metadata": {},
   "outputs": [],
   "source": [
    "import numpy as np\n",
    "import matplotlib.pyplot as plt\n",
    "import sympy as smp\n",
    "from cmath import phase\n",
    "import time"
   ]
  },
  {
   "cell_type": "code",
   "execution_count": 2,
   "metadata": {},
   "outputs": [],
   "source": [
    "def points_to_func(points,time):\n",
    "    t = points[:,0]\n",
    "    f_t = points[:,1]\n",
    "    mat = np.array([t]).T**np.arange(len(t))\n",
    "    coeff = np.linalg.solve(mat,f_t.T)\n",
    "    return time**np.arange(len(coeff))@coeff"
   ]
  },
  {
   "cell_type": "code",
   "execution_count": 3,
   "metadata": {},
   "outputs": [],
   "source": [
    "def fourier(f,t,w):\n",
    "    #print(f)\n",
    "    num = smp.integrate(f*smp.cos(-1*w*t),(t,0,1)) + smp.I*smp.integrate(f*smp.sin(-1*w*t),(t,0,1))\n",
    "    print('Done Integrate')\n",
    "    return smp.Abs(num),smp.arg(num)"
   ]
  },
  {
   "cell_type": "code",
   "execution_count": 4,
   "metadata": {},
   "outputs": [],
   "source": [
    "def fourier_component(x,y,w):\n",
    "    t = smp.symbols('t')\n",
    "    f = points_to_func(x,t)\n",
    "    print('Done for x')\n",
    "    g = points_to_func(y,t)\n",
    "    print('Done for y')\n",
    "    radius, arg = fourier((f+smp.I*g),t,w)\n",
    "    print('Done for f+ig')\n",
    "    return radius, arg"
   ]
  },
  {
   "cell_type": "code",
   "execution_count": 5,
   "metadata": {},
   "outputs": [],
   "source": [
    "def import_points(file=\"points.txt\"):\n",
    "    points = np.loadtxt(file)\n",
    "    x = np.array([points[:,0],points[:,1]]).T\n",
    "    y = np.array([points[:,0],points[:,2]]).T\n",
    "    return x,y"
   ]
  },
  {
   "cell_type": "code",
   "execution_count": 13,
   "metadata": {},
   "outputs": [],
   "source": [
    "x, y = import_points()\n"
   ]
  },
  {
   "cell_type": "code",
   "execution_count": 7,
   "metadata": {},
   "outputs": [],
   "source": [
    "t = smp.symbols('t')"
   ]
  },
  {
   "cell_type": "code",
   "execution_count": 8,
   "metadata": {},
   "outputs": [],
   "source": [
    "f = t**2 - t\n",
    "g = -2*t**2 + 3*t - 2\n"
   ]
  },
  {
   "cell_type": "code",
   "execution_count": 9,
   "metadata": {},
   "outputs": [],
   "source": [
    "w = smp.symbols('w')"
   ]
  },
  {
   "cell_type": "code",
   "execution_count": 10,
   "metadata": {},
   "outputs": [],
   "source": [
    "x = np.array([[0,1],[0.5,10],[1,-4]])\n",
    "y = np.array([[0,5],[0.5,-1],[1,3]])"
   ]
  },
  {
   "cell_type": "code",
   "execution_count": 17,
   "metadata": {},
   "outputs": [
    {
     "name": "stdout",
     "output_type": "stream",
     "text": [
      "Done for x\n",
      "Done for y\n",
      "Done Integrate\n",
      "Done for f+ig\n"
     ]
    }
   ],
   "source": [
    "r,theta = fourier_component(x,y,w)"
   ]
  },
  {
   "cell_type": "code",
   "execution_count": 19,
   "metadata": {},
   "outputs": [
    {
     "data": {
      "text/plain": [
       "(324.718771553855, 0.694523328128458)"
      ]
     },
     "execution_count": 19,
     "metadata": {},
     "output_type": "execute_result"
    }
   ],
   "source": [
    "smp.N(r.subs(w,0)),smp.N(theta.subs(w,0))\n"
   ]
  },
  {
   "cell_type": "code",
   "execution_count": null,
   "metadata": {},
   "outputs": [],
   "source": []
  }
 ],
 "metadata": {
  "kernelspec": {
   "display_name": "Python 3",
   "language": "python",
   "name": "python3"
  },
  "language_info": {
   "codemirror_mode": {
    "name": "ipython",
    "version": 3
   },
   "file_extension": ".py",
   "mimetype": "text/x-python",
   "name": "python",
   "nbconvert_exporter": "python",
   "pygments_lexer": "ipython3",
   "version": "3.11.9"
  }
 },
 "nbformat": 4,
 "nbformat_minor": 2
}
